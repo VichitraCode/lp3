{
 "cells": [
  {
   "cell_type": "code",
   "execution_count": null,
   "id": "QSDkQT4is8_4",
   "metadata": {
    "colab": {
     "base_uri": "https://localhost:8080/"
    },
    "id": "QSDkQT4is8_4",
    "outputId": "68e1d58b-a66b-4fdf-cd5b-cf297f3ad2e1"
   },
   "outputs": [],
   "source": []
  },
  {
   "cell_type": "code",
   "execution_count": 3,
   "id": "SltyrdERtUp4",
   "metadata": {
    "id": "SltyrdERtUp4"
   },
   "outputs": [],
   "source": [
    "import numpy as np # linear algebra\n",
    "import pandas as pd # data processing, CSV file I/O (e.g. pd.read_csv)\n",
    "import seaborn as sns\n",
    "import warnings\n",
    "warnings.filterwarnings('ignore')\n",
    "from sklearn.preprocessing import LabelEncoder\n",
    "from sklearn.model_selection import train_test_split\n",
    "import tensorflow as tf\n",
    "from tensorflow import keras\n",
    "from sklearn.metrics import classification_report,accuracy_score"
   ]
  },
  {
   "cell_type": "markdown",
   "id": "32005bcd",
   "metadata": {
    "id": "32005bcd",
    "papermill": {
     "duration": 0.008144,
     "end_time": "2022-10-13T07:48:20.496808",
     "exception": false,
     "start_time": "2022-10-13T07:48:20.488664",
     "status": "completed"
    },
    "tags": []
   },
   "source": [
    "## Import Dataset"
   ]
  },
  {
   "cell_type": "code",
   "execution_count": 4,
   "id": "f04a9de9",
   "metadata": {
    "execution": {
     "iopub.execute_input": "2022-10-13T07:48:20.515825Z",
     "iopub.status.busy": "2022-10-13T07:48:20.514951Z",
     "iopub.status.idle": "2022-10-13T07:48:20.564161Z",
     "shell.execute_reply": "2022-10-13T07:48:20.562965Z"
    },
    "id": "f04a9de9",
    "papermill": {
     "duration": 0.06182,
     "end_time": "2022-10-13T07:48:20.566984",
     "exception": false,
     "start_time": "2022-10-13T07:48:20.505164",
     "status": "completed"
    },
    "tags": []
   },
   "outputs": [],
   "source": [
    "bank_data = pd.read_csv('Churn_Modelling.csv')"
   ]
  },
  {
   "cell_type": "code",
   "execution_count": 5,
   "id": "dab8aeb9",
   "metadata": {
    "colab": {
     "base_uri": "https://localhost:8080/",
     "height": 206
    },
    "execution": {
     "iopub.execute_input": "2022-10-13T07:48:20.586053Z",
     "iopub.status.busy": "2022-10-13T07:48:20.585653Z",
     "iopub.status.idle": "2022-10-13T07:48:20.611607Z",
     "shell.execute_reply": "2022-10-13T07:48:20.610240Z"
    },
    "id": "dab8aeb9",
    "outputId": "272331d9-cd25-48d5-d354-d84e0608c204",
    "papermill": {
     "duration": 0.03857,
     "end_time": "2022-10-13T07:48:20.614206",
     "exception": false,
     "start_time": "2022-10-13T07:48:20.575636",
     "status": "completed"
    },
    "tags": []
   },
   "outputs": [
    {
     "data": {
      "text/html": [
       "<div>\n",
       "<style scoped>\n",
       "    .dataframe tbody tr th:only-of-type {\n",
       "        vertical-align: middle;\n",
       "    }\n",
       "\n",
       "    .dataframe tbody tr th {\n",
       "        vertical-align: top;\n",
       "    }\n",
       "\n",
       "    .dataframe thead th {\n",
       "        text-align: right;\n",
       "    }\n",
       "</style>\n",
       "<table border=\"1\" class=\"dataframe\">\n",
       "  <thead>\n",
       "    <tr style=\"text-align: right;\">\n",
       "      <th></th>\n",
       "      <th>RowNumber</th>\n",
       "      <th>CustomerId</th>\n",
       "      <th>Surname</th>\n",
       "      <th>CreditScore</th>\n",
       "      <th>Geography</th>\n",
       "      <th>Gender</th>\n",
       "      <th>Age</th>\n",
       "      <th>Tenure</th>\n",
       "      <th>Balance</th>\n",
       "      <th>NumOfProducts</th>\n",
       "      <th>HasCrCard</th>\n",
       "      <th>IsActiveMember</th>\n",
       "      <th>EstimatedSalary</th>\n",
       "      <th>Exited</th>\n",
       "    </tr>\n",
       "  </thead>\n",
       "  <tbody>\n",
       "    <tr>\n",
       "      <th>0</th>\n",
       "      <td>1</td>\n",
       "      <td>15634602</td>\n",
       "      <td>Hargrave</td>\n",
       "      <td>619</td>\n",
       "      <td>France</td>\n",
       "      <td>Female</td>\n",
       "      <td>42</td>\n",
       "      <td>2</td>\n",
       "      <td>0.00</td>\n",
       "      <td>1</td>\n",
       "      <td>1</td>\n",
       "      <td>1</td>\n",
       "      <td>101348.88</td>\n",
       "      <td>1</td>\n",
       "    </tr>\n",
       "    <tr>\n",
       "      <th>1</th>\n",
       "      <td>2</td>\n",
       "      <td>15647311</td>\n",
       "      <td>Hill</td>\n",
       "      <td>608</td>\n",
       "      <td>Spain</td>\n",
       "      <td>Female</td>\n",
       "      <td>41</td>\n",
       "      <td>1</td>\n",
       "      <td>83807.86</td>\n",
       "      <td>1</td>\n",
       "      <td>0</td>\n",
       "      <td>1</td>\n",
       "      <td>112542.58</td>\n",
       "      <td>0</td>\n",
       "    </tr>\n",
       "    <tr>\n",
       "      <th>2</th>\n",
       "      <td>3</td>\n",
       "      <td>15619304</td>\n",
       "      <td>Onio</td>\n",
       "      <td>502</td>\n",
       "      <td>France</td>\n",
       "      <td>Female</td>\n",
       "      <td>42</td>\n",
       "      <td>8</td>\n",
       "      <td>159660.80</td>\n",
       "      <td>3</td>\n",
       "      <td>1</td>\n",
       "      <td>0</td>\n",
       "      <td>113931.57</td>\n",
       "      <td>1</td>\n",
       "    </tr>\n",
       "    <tr>\n",
       "      <th>3</th>\n",
       "      <td>4</td>\n",
       "      <td>15701354</td>\n",
       "      <td>Boni</td>\n",
       "      <td>699</td>\n",
       "      <td>France</td>\n",
       "      <td>Female</td>\n",
       "      <td>39</td>\n",
       "      <td>1</td>\n",
       "      <td>0.00</td>\n",
       "      <td>2</td>\n",
       "      <td>0</td>\n",
       "      <td>0</td>\n",
       "      <td>93826.63</td>\n",
       "      <td>0</td>\n",
       "    </tr>\n",
       "    <tr>\n",
       "      <th>4</th>\n",
       "      <td>5</td>\n",
       "      <td>15737888</td>\n",
       "      <td>Mitchell</td>\n",
       "      <td>850</td>\n",
       "      <td>Spain</td>\n",
       "      <td>Female</td>\n",
       "      <td>43</td>\n",
       "      <td>2</td>\n",
       "      <td>125510.82</td>\n",
       "      <td>1</td>\n",
       "      <td>1</td>\n",
       "      <td>1</td>\n",
       "      <td>79084.10</td>\n",
       "      <td>0</td>\n",
       "    </tr>\n",
       "  </tbody>\n",
       "</table>\n",
       "</div>"
      ],
      "text/plain": [
       "   RowNumber  CustomerId   Surname  CreditScore Geography  Gender  Age  \\\n",
       "0          1    15634602  Hargrave          619    France  Female   42   \n",
       "1          2    15647311      Hill          608     Spain  Female   41   \n",
       "2          3    15619304      Onio          502    France  Female   42   \n",
       "3          4    15701354      Boni          699    France  Female   39   \n",
       "4          5    15737888  Mitchell          850     Spain  Female   43   \n",
       "\n",
       "   Tenure    Balance  NumOfProducts  HasCrCard  IsActiveMember  \\\n",
       "0       2       0.00              1          1               1   \n",
       "1       1   83807.86              1          0               1   \n",
       "2       8  159660.80              3          1               0   \n",
       "3       1       0.00              2          0               0   \n",
       "4       2  125510.82              1          1               1   \n",
       "\n",
       "   EstimatedSalary  Exited  \n",
       "0        101348.88       1  \n",
       "1        112542.58       0  \n",
       "2        113931.57       1  \n",
       "3         93826.63       0  \n",
       "4         79084.10       0  "
      ]
     },
     "execution_count": 5,
     "metadata": {},
     "output_type": "execute_result"
    }
   ],
   "source": [
    "bank_data.head()"
   ]
  },
  {
   "cell_type": "code",
   "execution_count": 6,
   "id": "9205341a",
   "metadata": {
    "colab": {
     "base_uri": "https://localhost:8080/"
    },
    "execution": {
     "iopub.execute_input": "2022-10-13T07:48:20.634179Z",
     "iopub.status.busy": "2022-10-13T07:48:20.633757Z",
     "iopub.status.idle": "2022-10-13T07:48:20.661996Z",
     "shell.execute_reply": "2022-10-13T07:48:20.660550Z"
    },
    "id": "9205341a",
    "outputId": "a7f48da2-5b1b-4b04-dbc3-ef362520c6c8",
    "papermill": {
     "duration": 0.040876,
     "end_time": "2022-10-13T07:48:20.664281",
     "exception": false,
     "start_time": "2022-10-13T07:48:20.623405",
     "status": "completed"
    },
    "tags": []
   },
   "outputs": [
    {
     "name": "stdout",
     "output_type": "stream",
     "text": [
      "<class 'pandas.core.frame.DataFrame'>\n",
      "RangeIndex: 10000 entries, 0 to 9999\n",
      "Data columns (total 14 columns):\n",
      " #   Column           Non-Null Count  Dtype  \n",
      "---  ------           --------------  -----  \n",
      " 0   RowNumber        10000 non-null  int64  \n",
      " 1   CustomerId       10000 non-null  int64  \n",
      " 2   Surname          10000 non-null  object \n",
      " 3   CreditScore      10000 non-null  int64  \n",
      " 4   Geography        10000 non-null  object \n",
      " 5   Gender           10000 non-null  object \n",
      " 6   Age              10000 non-null  int64  \n",
      " 7   Tenure           10000 non-null  int64  \n",
      " 8   Balance          10000 non-null  float64\n",
      " 9   NumOfProducts    10000 non-null  int64  \n",
      " 10  HasCrCard        10000 non-null  int64  \n",
      " 11  IsActiveMember   10000 non-null  int64  \n",
      " 12  EstimatedSalary  10000 non-null  float64\n",
      " 13  Exited           10000 non-null  int64  \n",
      "dtypes: float64(2), int64(9), object(3)\n",
      "memory usage: 1.1+ MB\n"
     ]
    }
   ],
   "source": [
    "bank_data.info()"
   ]
  },
  {
   "cell_type": "code",
   "execution_count": 7,
   "id": "3f13a267",
   "metadata": {
    "colab": {
     "base_uri": "https://localhost:8080/",
     "height": 300
    },
    "execution": {
     "iopub.execute_input": "2022-10-13T07:48:20.685441Z",
     "iopub.status.busy": "2022-10-13T07:48:20.684984Z",
     "iopub.status.idle": "2022-10-13T07:48:20.736305Z",
     "shell.execute_reply": "2022-10-13T07:48:20.734963Z"
    },
    "id": "3f13a267",
    "outputId": "1848556a-7ef4-40ce-af75-b2d48389db16",
    "papermill": {
     "duration": 0.063953,
     "end_time": "2022-10-13T07:48:20.738700",
     "exception": false,
     "start_time": "2022-10-13T07:48:20.674747",
     "status": "completed"
    },
    "tags": []
   },
   "outputs": [
    {
     "data": {
      "text/html": [
       "<div>\n",
       "<style scoped>\n",
       "    .dataframe tbody tr th:only-of-type {\n",
       "        vertical-align: middle;\n",
       "    }\n",
       "\n",
       "    .dataframe tbody tr th {\n",
       "        vertical-align: top;\n",
       "    }\n",
       "\n",
       "    .dataframe thead th {\n",
       "        text-align: right;\n",
       "    }\n",
       "</style>\n",
       "<table border=\"1\" class=\"dataframe\">\n",
       "  <thead>\n",
       "    <tr style=\"text-align: right;\">\n",
       "      <th></th>\n",
       "      <th>RowNumber</th>\n",
       "      <th>CustomerId</th>\n",
       "      <th>CreditScore</th>\n",
       "      <th>Age</th>\n",
       "      <th>Tenure</th>\n",
       "      <th>Balance</th>\n",
       "      <th>NumOfProducts</th>\n",
       "      <th>HasCrCard</th>\n",
       "      <th>IsActiveMember</th>\n",
       "      <th>EstimatedSalary</th>\n",
       "      <th>Exited</th>\n",
       "    </tr>\n",
       "  </thead>\n",
       "  <tbody>\n",
       "    <tr>\n",
       "      <th>count</th>\n",
       "      <td>10000.00000</td>\n",
       "      <td>1.000000e+04</td>\n",
       "      <td>10000.000000</td>\n",
       "      <td>10000.000000</td>\n",
       "      <td>10000.000000</td>\n",
       "      <td>10000.000000</td>\n",
       "      <td>10000.000000</td>\n",
       "      <td>10000.00000</td>\n",
       "      <td>10000.000000</td>\n",
       "      <td>10000.000000</td>\n",
       "      <td>10000.000000</td>\n",
       "    </tr>\n",
       "    <tr>\n",
       "      <th>mean</th>\n",
       "      <td>5000.50000</td>\n",
       "      <td>1.569094e+07</td>\n",
       "      <td>650.528800</td>\n",
       "      <td>38.921800</td>\n",
       "      <td>5.012800</td>\n",
       "      <td>76485.889288</td>\n",
       "      <td>1.530200</td>\n",
       "      <td>0.70550</td>\n",
       "      <td>0.515100</td>\n",
       "      <td>100090.239881</td>\n",
       "      <td>0.203700</td>\n",
       "    </tr>\n",
       "    <tr>\n",
       "      <th>std</th>\n",
       "      <td>2886.89568</td>\n",
       "      <td>7.193619e+04</td>\n",
       "      <td>96.653299</td>\n",
       "      <td>10.487806</td>\n",
       "      <td>2.892174</td>\n",
       "      <td>62397.405202</td>\n",
       "      <td>0.581654</td>\n",
       "      <td>0.45584</td>\n",
       "      <td>0.499797</td>\n",
       "      <td>57510.492818</td>\n",
       "      <td>0.402769</td>\n",
       "    </tr>\n",
       "    <tr>\n",
       "      <th>min</th>\n",
       "      <td>1.00000</td>\n",
       "      <td>1.556570e+07</td>\n",
       "      <td>350.000000</td>\n",
       "      <td>18.000000</td>\n",
       "      <td>0.000000</td>\n",
       "      <td>0.000000</td>\n",
       "      <td>1.000000</td>\n",
       "      <td>0.00000</td>\n",
       "      <td>0.000000</td>\n",
       "      <td>11.580000</td>\n",
       "      <td>0.000000</td>\n",
       "    </tr>\n",
       "    <tr>\n",
       "      <th>25%</th>\n",
       "      <td>2500.75000</td>\n",
       "      <td>1.562853e+07</td>\n",
       "      <td>584.000000</td>\n",
       "      <td>32.000000</td>\n",
       "      <td>3.000000</td>\n",
       "      <td>0.000000</td>\n",
       "      <td>1.000000</td>\n",
       "      <td>0.00000</td>\n",
       "      <td>0.000000</td>\n",
       "      <td>51002.110000</td>\n",
       "      <td>0.000000</td>\n",
       "    </tr>\n",
       "    <tr>\n",
       "      <th>50%</th>\n",
       "      <td>5000.50000</td>\n",
       "      <td>1.569074e+07</td>\n",
       "      <td>652.000000</td>\n",
       "      <td>37.000000</td>\n",
       "      <td>5.000000</td>\n",
       "      <td>97198.540000</td>\n",
       "      <td>1.000000</td>\n",
       "      <td>1.00000</td>\n",
       "      <td>1.000000</td>\n",
       "      <td>100193.915000</td>\n",
       "      <td>0.000000</td>\n",
       "    </tr>\n",
       "    <tr>\n",
       "      <th>75%</th>\n",
       "      <td>7500.25000</td>\n",
       "      <td>1.575323e+07</td>\n",
       "      <td>718.000000</td>\n",
       "      <td>44.000000</td>\n",
       "      <td>7.000000</td>\n",
       "      <td>127644.240000</td>\n",
       "      <td>2.000000</td>\n",
       "      <td>1.00000</td>\n",
       "      <td>1.000000</td>\n",
       "      <td>149388.247500</td>\n",
       "      <td>0.000000</td>\n",
       "    </tr>\n",
       "    <tr>\n",
       "      <th>max</th>\n",
       "      <td>10000.00000</td>\n",
       "      <td>1.581569e+07</td>\n",
       "      <td>850.000000</td>\n",
       "      <td>92.000000</td>\n",
       "      <td>10.000000</td>\n",
       "      <td>250898.090000</td>\n",
       "      <td>4.000000</td>\n",
       "      <td>1.00000</td>\n",
       "      <td>1.000000</td>\n",
       "      <td>199992.480000</td>\n",
       "      <td>1.000000</td>\n",
       "    </tr>\n",
       "  </tbody>\n",
       "</table>\n",
       "</div>"
      ],
      "text/plain": [
       "         RowNumber    CustomerId   CreditScore           Age        Tenure  \\\n",
       "count  10000.00000  1.000000e+04  10000.000000  10000.000000  10000.000000   \n",
       "mean    5000.50000  1.569094e+07    650.528800     38.921800      5.012800   \n",
       "std     2886.89568  7.193619e+04     96.653299     10.487806      2.892174   \n",
       "min        1.00000  1.556570e+07    350.000000     18.000000      0.000000   \n",
       "25%     2500.75000  1.562853e+07    584.000000     32.000000      3.000000   \n",
       "50%     5000.50000  1.569074e+07    652.000000     37.000000      5.000000   \n",
       "75%     7500.25000  1.575323e+07    718.000000     44.000000      7.000000   \n",
       "max    10000.00000  1.581569e+07    850.000000     92.000000     10.000000   \n",
       "\n",
       "             Balance  NumOfProducts    HasCrCard  IsActiveMember  \\\n",
       "count   10000.000000   10000.000000  10000.00000    10000.000000   \n",
       "mean    76485.889288       1.530200      0.70550        0.515100   \n",
       "std     62397.405202       0.581654      0.45584        0.499797   \n",
       "min         0.000000       1.000000      0.00000        0.000000   \n",
       "25%         0.000000       1.000000      0.00000        0.000000   \n",
       "50%     97198.540000       1.000000      1.00000        1.000000   \n",
       "75%    127644.240000       2.000000      1.00000        1.000000   \n",
       "max    250898.090000       4.000000      1.00000        1.000000   \n",
       "\n",
       "       EstimatedSalary        Exited  \n",
       "count     10000.000000  10000.000000  \n",
       "mean     100090.239881      0.203700  \n",
       "std       57510.492818      0.402769  \n",
       "min          11.580000      0.000000  \n",
       "25%       51002.110000      0.000000  \n",
       "50%      100193.915000      0.000000  \n",
       "75%      149388.247500      0.000000  \n",
       "max      199992.480000      1.000000  "
      ]
     },
     "execution_count": 7,
     "metadata": {},
     "output_type": "execute_result"
    }
   ],
   "source": [
    "bank_data.describe()"
   ]
  },
  {
   "cell_type": "code",
   "execution_count": 8,
   "id": "03b7d039",
   "metadata": {
    "colab": {
     "base_uri": "https://localhost:8080/"
    },
    "execution": {
     "iopub.execute_input": "2022-10-13T07:48:20.759135Z",
     "iopub.status.busy": "2022-10-13T07:48:20.758689Z",
     "iopub.status.idle": "2022-10-13T07:48:20.765857Z",
     "shell.execute_reply": "2022-10-13T07:48:20.764774Z"
    },
    "id": "03b7d039",
    "outputId": "b41c7282-dc00-47d1-ba54-b5c3e2028099",
    "papermill": {
     "duration": 0.020349,
     "end_time": "2022-10-13T07:48:20.768442",
     "exception": false,
     "start_time": "2022-10-13T07:48:20.748093",
     "status": "completed"
    },
    "tags": []
   },
   "outputs": [
    {
     "data": {
      "text/plain": [
       "(10000, 14)"
      ]
     },
     "execution_count": 8,
     "metadata": {},
     "output_type": "execute_result"
    }
   ],
   "source": [
    "bank_data.shape"
   ]
  },
  {
   "cell_type": "markdown",
   "id": "a0dd233e",
   "metadata": {
    "id": "a0dd233e",
    "papermill": {
     "duration": 0.009113,
     "end_time": "2022-10-13T07:48:20.787804",
     "exception": false,
     "start_time": "2022-10-13T07:48:20.778691",
     "status": "completed"
    },
    "tags": []
   },
   "source": [
    "## Check Missing Data"
   ]
  },
  {
   "cell_type": "code",
   "execution_count": 9,
   "id": "8f8a0333",
   "metadata": {
    "colab": {
     "base_uri": "https://localhost:8080/"
    },
    "execution": {
     "iopub.execute_input": "2022-10-13T07:48:20.807997Z",
     "iopub.status.busy": "2022-10-13T07:48:20.807525Z",
     "iopub.status.idle": "2022-10-13T07:48:20.819368Z",
     "shell.execute_reply": "2022-10-13T07:48:20.818377Z"
    },
    "id": "8f8a0333",
    "outputId": "c24d807c-737a-42e6-badd-70d2fbfbc886",
    "papermill": {
     "duration": 0.024489,
     "end_time": "2022-10-13T07:48:20.821610",
     "exception": false,
     "start_time": "2022-10-13T07:48:20.797121",
     "status": "completed"
    },
    "tags": []
   },
   "outputs": [
    {
     "data": {
      "text/plain": [
       "RowNumber          0\n",
       "CustomerId         0\n",
       "Surname            0\n",
       "CreditScore        0\n",
       "Geography          0\n",
       "Gender             0\n",
       "Age                0\n",
       "Tenure             0\n",
       "Balance            0\n",
       "NumOfProducts      0\n",
       "HasCrCard          0\n",
       "IsActiveMember     0\n",
       "EstimatedSalary    0\n",
       "Exited             0\n",
       "dtype: int64"
      ]
     },
     "execution_count": 9,
     "metadata": {},
     "output_type": "execute_result"
    }
   ],
   "source": [
    "bank_data.isnull().sum()"
   ]
  },
  {
   "cell_type": "markdown",
   "id": "4b5ed995",
   "metadata": {
    "id": "4b5ed995",
    "papermill": {
     "duration": 0.008984,
     "end_time": "2022-10-13T07:48:20.839914",
     "exception": false,
     "start_time": "2022-10-13T07:48:20.830930",
     "status": "completed"
    },
    "tags": []
   },
   "source": [
    "## Encoding Categorial Data"
   ]
  },
  {
   "cell_type": "code",
   "execution_count": 10,
   "id": "4257429d",
   "metadata": {
    "colab": {
     "base_uri": "https://localhost:8080/"
    },
    "execution": {
     "iopub.execute_input": "2022-10-13T07:48:20.861738Z",
     "iopub.status.busy": "2022-10-13T07:48:20.861041Z",
     "iopub.status.idle": "2022-10-13T07:48:20.869305Z",
     "shell.execute_reply": "2022-10-13T07:48:20.868206Z"
    },
    "id": "4257429d",
    "outputId": "9e6cbafd-2b8c-4028-e702-49bd05a94462",
    "papermill": {
     "duration": 0.022073,
     "end_time": "2022-10-13T07:48:20.871743",
     "exception": false,
     "start_time": "2022-10-13T07:48:20.849670",
     "status": "completed"
    },
    "tags": []
   },
   "outputs": [
    {
     "data": {
      "text/plain": [
       "array(['France', 'Spain', 'Germany'], dtype=object)"
      ]
     },
     "execution_count": 10,
     "metadata": {},
     "output_type": "execute_result"
    }
   ],
   "source": [
    "bank_data['Geography'].unique()"
   ]
  },
  {
   "cell_type": "code",
   "execution_count": 11,
   "id": "d3f5d928",
   "metadata": {
    "colab": {
     "base_uri": "https://localhost:8080/"
    },
    "execution": {
     "iopub.execute_input": "2022-10-13T07:48:20.892959Z",
     "iopub.status.busy": "2022-10-13T07:48:20.892479Z",
     "iopub.status.idle": "2022-10-13T07:48:20.901255Z",
     "shell.execute_reply": "2022-10-13T07:48:20.899799Z"
    },
    "id": "d3f5d928",
    "outputId": "9a6f9bb0-bfee-49d9-c435-ce5c7cb3f133",
    "papermill": {
     "duration": 0.0225,
     "end_time": "2022-10-13T07:48:20.903939",
     "exception": false,
     "start_time": "2022-10-13T07:48:20.881439",
     "status": "completed"
    },
    "tags": []
   },
   "outputs": [
    {
     "data": {
      "text/plain": [
       "array(['Female', 'Male'], dtype=object)"
      ]
     },
     "execution_count": 11,
     "metadata": {},
     "output_type": "execute_result"
    }
   ],
   "source": [
    "bank_data['Gender'].unique()"
   ]
  },
  {
   "cell_type": "code",
   "execution_count": 12,
   "id": "1c757d91",
   "metadata": {
    "execution": {
     "iopub.execute_input": "2022-10-13T07:48:20.925583Z",
     "iopub.status.busy": "2022-10-13T07:48:20.925147Z",
     "iopub.status.idle": "2022-10-13T07:48:20.937142Z",
     "shell.execute_reply": "2022-10-13T07:48:20.935941Z"
    },
    "id": "1c757d91",
    "papermill": {
     "duration": 0.025855,
     "end_time": "2022-10-13T07:48:20.939679",
     "exception": false,
     "start_time": "2022-10-13T07:48:20.913824",
     "status": "completed"
    },
    "tags": []
   },
   "outputs": [],
   "source": [
    "label = LabelEncoder()\n",
    "bank_data['Geography'] = label.fit_transform(bank_data['Geography'])\n",
    "bank_data['Gender'] = label.fit_transform(bank_data['Gender'])"
   ]
  },
  {
   "cell_type": "code",
   "execution_count": 13,
   "id": "61b27c95",
   "metadata": {
    "colab": {
     "base_uri": "https://localhost:8080/",
     "height": 206
    },
    "execution": {
     "iopub.execute_input": "2022-10-13T07:48:20.962201Z",
     "iopub.status.busy": "2022-10-13T07:48:20.961787Z",
     "iopub.status.idle": "2022-10-13T07:48:20.977102Z",
     "shell.execute_reply": "2022-10-13T07:48:20.976320Z"
    },
    "id": "61b27c95",
    "outputId": "353450cb-6a3a-48c6-d20e-72818f7b7596",
    "papermill": {
     "duration": 0.029309,
     "end_time": "2022-10-13T07:48:20.979189",
     "exception": false,
     "start_time": "2022-10-13T07:48:20.949880",
     "status": "completed"
    },
    "tags": []
   },
   "outputs": [
    {
     "data": {
      "text/html": [
       "<div>\n",
       "<style scoped>\n",
       "    .dataframe tbody tr th:only-of-type {\n",
       "        vertical-align: middle;\n",
       "    }\n",
       "\n",
       "    .dataframe tbody tr th {\n",
       "        vertical-align: top;\n",
       "    }\n",
       "\n",
       "    .dataframe thead th {\n",
       "        text-align: right;\n",
       "    }\n",
       "</style>\n",
       "<table border=\"1\" class=\"dataframe\">\n",
       "  <thead>\n",
       "    <tr style=\"text-align: right;\">\n",
       "      <th></th>\n",
       "      <th>RowNumber</th>\n",
       "      <th>CustomerId</th>\n",
       "      <th>Surname</th>\n",
       "      <th>CreditScore</th>\n",
       "      <th>Geography</th>\n",
       "      <th>Gender</th>\n",
       "      <th>Age</th>\n",
       "      <th>Tenure</th>\n",
       "      <th>Balance</th>\n",
       "      <th>NumOfProducts</th>\n",
       "      <th>HasCrCard</th>\n",
       "      <th>IsActiveMember</th>\n",
       "      <th>EstimatedSalary</th>\n",
       "      <th>Exited</th>\n",
       "    </tr>\n",
       "  </thead>\n",
       "  <tbody>\n",
       "    <tr>\n",
       "      <th>0</th>\n",
       "      <td>1</td>\n",
       "      <td>15634602</td>\n",
       "      <td>Hargrave</td>\n",
       "      <td>619</td>\n",
       "      <td>0</td>\n",
       "      <td>0</td>\n",
       "      <td>42</td>\n",
       "      <td>2</td>\n",
       "      <td>0.00</td>\n",
       "      <td>1</td>\n",
       "      <td>1</td>\n",
       "      <td>1</td>\n",
       "      <td>101348.88</td>\n",
       "      <td>1</td>\n",
       "    </tr>\n",
       "    <tr>\n",
       "      <th>1</th>\n",
       "      <td>2</td>\n",
       "      <td>15647311</td>\n",
       "      <td>Hill</td>\n",
       "      <td>608</td>\n",
       "      <td>2</td>\n",
       "      <td>0</td>\n",
       "      <td>41</td>\n",
       "      <td>1</td>\n",
       "      <td>83807.86</td>\n",
       "      <td>1</td>\n",
       "      <td>0</td>\n",
       "      <td>1</td>\n",
       "      <td>112542.58</td>\n",
       "      <td>0</td>\n",
       "    </tr>\n",
       "    <tr>\n",
       "      <th>2</th>\n",
       "      <td>3</td>\n",
       "      <td>15619304</td>\n",
       "      <td>Onio</td>\n",
       "      <td>502</td>\n",
       "      <td>0</td>\n",
       "      <td>0</td>\n",
       "      <td>42</td>\n",
       "      <td>8</td>\n",
       "      <td>159660.80</td>\n",
       "      <td>3</td>\n",
       "      <td>1</td>\n",
       "      <td>0</td>\n",
       "      <td>113931.57</td>\n",
       "      <td>1</td>\n",
       "    </tr>\n",
       "    <tr>\n",
       "      <th>3</th>\n",
       "      <td>4</td>\n",
       "      <td>15701354</td>\n",
       "      <td>Boni</td>\n",
       "      <td>699</td>\n",
       "      <td>0</td>\n",
       "      <td>0</td>\n",
       "      <td>39</td>\n",
       "      <td>1</td>\n",
       "      <td>0.00</td>\n",
       "      <td>2</td>\n",
       "      <td>0</td>\n",
       "      <td>0</td>\n",
       "      <td>93826.63</td>\n",
       "      <td>0</td>\n",
       "    </tr>\n",
       "    <tr>\n",
       "      <th>4</th>\n",
       "      <td>5</td>\n",
       "      <td>15737888</td>\n",
       "      <td>Mitchell</td>\n",
       "      <td>850</td>\n",
       "      <td>2</td>\n",
       "      <td>0</td>\n",
       "      <td>43</td>\n",
       "      <td>2</td>\n",
       "      <td>125510.82</td>\n",
       "      <td>1</td>\n",
       "      <td>1</td>\n",
       "      <td>1</td>\n",
       "      <td>79084.10</td>\n",
       "      <td>0</td>\n",
       "    </tr>\n",
       "  </tbody>\n",
       "</table>\n",
       "</div>"
      ],
      "text/plain": [
       "   RowNumber  CustomerId   Surname  CreditScore  Geography  Gender  Age  \\\n",
       "0          1    15634602  Hargrave          619          0       0   42   \n",
       "1          2    15647311      Hill          608          2       0   41   \n",
       "2          3    15619304      Onio          502          0       0   42   \n",
       "3          4    15701354      Boni          699          0       0   39   \n",
       "4          5    15737888  Mitchell          850          2       0   43   \n",
       "\n",
       "   Tenure    Balance  NumOfProducts  HasCrCard  IsActiveMember  \\\n",
       "0       2       0.00              1          1               1   \n",
       "1       1   83807.86              1          0               1   \n",
       "2       8  159660.80              3          1               0   \n",
       "3       1       0.00              2          0               0   \n",
       "4       2  125510.82              1          1               1   \n",
       "\n",
       "   EstimatedSalary  Exited  \n",
       "0        101348.88       1  \n",
       "1        112542.58       0  \n",
       "2        113931.57       1  \n",
       "3         93826.63       0  \n",
       "4         79084.10       0  "
      ]
     },
     "execution_count": 13,
     "metadata": {},
     "output_type": "execute_result"
    }
   ],
   "source": [
    "bank_data.head()"
   ]
  },
  {
   "cell_type": "code",
   "execution_count": 14,
   "id": "-9VjxMdk1iEI",
   "metadata": {
    "id": "-9VjxMdk1iEI"
   },
   "outputs": [],
   "source": [
    "from sklearn.preprocessing import MinMaxScaler"
   ]
  },
  {
   "cell_type": "code",
   "execution_count": 15,
   "id": "arapBHfQ1nOW",
   "metadata": {
    "id": "arapBHfQ1nOW"
   },
   "outputs": [],
   "source": [
    "\n",
    "# apply normalization techniques\n",
    "column1 = 'Balance'\n",
    "bank_data[column1] = MinMaxScaler().fit_transform(np.array(bank_data[column1]).reshape(-1,1))\n",
    "  "
   ]
  },
  {
   "cell_type": "code",
   "execution_count": 16,
   "id": "sl0Q1T9i28KM",
   "metadata": {
    "id": "sl0Q1T9i28KM"
   },
   "outputs": [],
   "source": [
    "column2 = 'EstimatedSalary'\n",
    "bank_data[column2] = MinMaxScaler().fit_transform(np.array(bank_data[column2]).reshape(-1,1))"
   ]
  },
  {
   "cell_type": "code",
   "execution_count": 17,
   "id": "c2dc26c0",
   "metadata": {
    "colab": {
     "base_uri": "https://localhost:8080/",
     "height": 424
    },
    "execution": {
     "iopub.execute_input": "2022-10-13T07:48:21.001357Z",
     "iopub.status.busy": "2022-10-13T07:48:21.000940Z",
     "iopub.status.idle": "2022-10-13T07:48:21.016813Z",
     "shell.execute_reply": "2022-10-13T07:48:21.015201Z"
    },
    "id": "c2dc26c0",
    "outputId": "ead0e5ce-655a-4e8c-a27b-c072d4fbf19d",
    "papermill": {
     "duration": 0.030118,
     "end_time": "2022-10-13T07:48:21.019366",
     "exception": false,
     "start_time": "2022-10-13T07:48:20.989248",
     "status": "completed"
    },
    "tags": []
   },
   "outputs": [
    {
     "data": {
      "text/html": [
       "<div>\n",
       "<style scoped>\n",
       "    .dataframe tbody tr th:only-of-type {\n",
       "        vertical-align: middle;\n",
       "    }\n",
       "\n",
       "    .dataframe tbody tr th {\n",
       "        vertical-align: top;\n",
       "    }\n",
       "\n",
       "    .dataframe thead th {\n",
       "        text-align: right;\n",
       "    }\n",
       "</style>\n",
       "<table border=\"1\" class=\"dataframe\">\n",
       "  <thead>\n",
       "    <tr style=\"text-align: right;\">\n",
       "      <th></th>\n",
       "      <th>RowNumber</th>\n",
       "      <th>CustomerId</th>\n",
       "      <th>Surname</th>\n",
       "      <th>CreditScore</th>\n",
       "      <th>Geography</th>\n",
       "      <th>Gender</th>\n",
       "      <th>Age</th>\n",
       "      <th>Tenure</th>\n",
       "      <th>Balance</th>\n",
       "      <th>NumOfProducts</th>\n",
       "      <th>HasCrCard</th>\n",
       "      <th>IsActiveMember</th>\n",
       "      <th>EstimatedSalary</th>\n",
       "      <th>Exited</th>\n",
       "    </tr>\n",
       "  </thead>\n",
       "  <tbody>\n",
       "    <tr>\n",
       "      <th>0</th>\n",
       "      <td>1</td>\n",
       "      <td>15634602</td>\n",
       "      <td>Hargrave</td>\n",
       "      <td>619</td>\n",
       "      <td>0</td>\n",
       "      <td>0</td>\n",
       "      <td>42</td>\n",
       "      <td>2</td>\n",
       "      <td>0.000000</td>\n",
       "      <td>1</td>\n",
       "      <td>1</td>\n",
       "      <td>1</td>\n",
       "      <td>0.506735</td>\n",
       "      <td>1</td>\n",
       "    </tr>\n",
       "    <tr>\n",
       "      <th>1</th>\n",
       "      <td>2</td>\n",
       "      <td>15647311</td>\n",
       "      <td>Hill</td>\n",
       "      <td>608</td>\n",
       "      <td>2</td>\n",
       "      <td>0</td>\n",
       "      <td>41</td>\n",
       "      <td>1</td>\n",
       "      <td>0.334031</td>\n",
       "      <td>1</td>\n",
       "      <td>0</td>\n",
       "      <td>1</td>\n",
       "      <td>0.562709</td>\n",
       "      <td>0</td>\n",
       "    </tr>\n",
       "    <tr>\n",
       "      <th>2</th>\n",
       "      <td>3</td>\n",
       "      <td>15619304</td>\n",
       "      <td>Onio</td>\n",
       "      <td>502</td>\n",
       "      <td>0</td>\n",
       "      <td>0</td>\n",
       "      <td>42</td>\n",
       "      <td>8</td>\n",
       "      <td>0.636357</td>\n",
       "      <td>3</td>\n",
       "      <td>1</td>\n",
       "      <td>0</td>\n",
       "      <td>0.569654</td>\n",
       "      <td>1</td>\n",
       "    </tr>\n",
       "    <tr>\n",
       "      <th>3</th>\n",
       "      <td>4</td>\n",
       "      <td>15701354</td>\n",
       "      <td>Boni</td>\n",
       "      <td>699</td>\n",
       "      <td>0</td>\n",
       "      <td>0</td>\n",
       "      <td>39</td>\n",
       "      <td>1</td>\n",
       "      <td>0.000000</td>\n",
       "      <td>2</td>\n",
       "      <td>0</td>\n",
       "      <td>0</td>\n",
       "      <td>0.469120</td>\n",
       "      <td>0</td>\n",
       "    </tr>\n",
       "    <tr>\n",
       "      <th>4</th>\n",
       "      <td>5</td>\n",
       "      <td>15737888</td>\n",
       "      <td>Mitchell</td>\n",
       "      <td>850</td>\n",
       "      <td>2</td>\n",
       "      <td>0</td>\n",
       "      <td>43</td>\n",
       "      <td>2</td>\n",
       "      <td>0.500246</td>\n",
       "      <td>1</td>\n",
       "      <td>1</td>\n",
       "      <td>1</td>\n",
       "      <td>0.395400</td>\n",
       "      <td>0</td>\n",
       "    </tr>\n",
       "    <tr>\n",
       "      <th>...</th>\n",
       "      <td>...</td>\n",
       "      <td>...</td>\n",
       "      <td>...</td>\n",
       "      <td>...</td>\n",
       "      <td>...</td>\n",
       "      <td>...</td>\n",
       "      <td>...</td>\n",
       "      <td>...</td>\n",
       "      <td>...</td>\n",
       "      <td>...</td>\n",
       "      <td>...</td>\n",
       "      <td>...</td>\n",
       "      <td>...</td>\n",
       "      <td>...</td>\n",
       "    </tr>\n",
       "    <tr>\n",
       "      <th>9995</th>\n",
       "      <td>9996</td>\n",
       "      <td>15606229</td>\n",
       "      <td>Obijiaku</td>\n",
       "      <td>771</td>\n",
       "      <td>0</td>\n",
       "      <td>1</td>\n",
       "      <td>39</td>\n",
       "      <td>5</td>\n",
       "      <td>0.000000</td>\n",
       "      <td>2</td>\n",
       "      <td>1</td>\n",
       "      <td>0</td>\n",
       "      <td>0.481341</td>\n",
       "      <td>0</td>\n",
       "    </tr>\n",
       "    <tr>\n",
       "      <th>9996</th>\n",
       "      <td>9997</td>\n",
       "      <td>15569892</td>\n",
       "      <td>Johnstone</td>\n",
       "      <td>516</td>\n",
       "      <td>0</td>\n",
       "      <td>1</td>\n",
       "      <td>35</td>\n",
       "      <td>10</td>\n",
       "      <td>0.228657</td>\n",
       "      <td>1</td>\n",
       "      <td>1</td>\n",
       "      <td>1</td>\n",
       "      <td>0.508490</td>\n",
       "      <td>0</td>\n",
       "    </tr>\n",
       "    <tr>\n",
       "      <th>9997</th>\n",
       "      <td>9998</td>\n",
       "      <td>15584532</td>\n",
       "      <td>Liu</td>\n",
       "      <td>709</td>\n",
       "      <td>0</td>\n",
       "      <td>0</td>\n",
       "      <td>36</td>\n",
       "      <td>7</td>\n",
       "      <td>0.000000</td>\n",
       "      <td>1</td>\n",
       "      <td>0</td>\n",
       "      <td>1</td>\n",
       "      <td>0.210390</td>\n",
       "      <td>1</td>\n",
       "    </tr>\n",
       "    <tr>\n",
       "      <th>9998</th>\n",
       "      <td>9999</td>\n",
       "      <td>15682355</td>\n",
       "      <td>Sabbatini</td>\n",
       "      <td>772</td>\n",
       "      <td>1</td>\n",
       "      <td>1</td>\n",
       "      <td>42</td>\n",
       "      <td>3</td>\n",
       "      <td>0.299226</td>\n",
       "      <td>2</td>\n",
       "      <td>1</td>\n",
       "      <td>0</td>\n",
       "      <td>0.464429</td>\n",
       "      <td>1</td>\n",
       "    </tr>\n",
       "    <tr>\n",
       "      <th>9999</th>\n",
       "      <td>10000</td>\n",
       "      <td>15628319</td>\n",
       "      <td>Walker</td>\n",
       "      <td>792</td>\n",
       "      <td>0</td>\n",
       "      <td>0</td>\n",
       "      <td>28</td>\n",
       "      <td>4</td>\n",
       "      <td>0.518708</td>\n",
       "      <td>1</td>\n",
       "      <td>1</td>\n",
       "      <td>0</td>\n",
       "      <td>0.190914</td>\n",
       "      <td>0</td>\n",
       "    </tr>\n",
       "  </tbody>\n",
       "</table>\n",
       "<p>10000 rows × 14 columns</p>\n",
       "</div>"
      ],
      "text/plain": [
       "      RowNumber  CustomerId    Surname  CreditScore  Geography  Gender  Age  \\\n",
       "0             1    15634602   Hargrave          619          0       0   42   \n",
       "1             2    15647311       Hill          608          2       0   41   \n",
       "2             3    15619304       Onio          502          0       0   42   \n",
       "3             4    15701354       Boni          699          0       0   39   \n",
       "4             5    15737888   Mitchell          850          2       0   43   \n",
       "...         ...         ...        ...          ...        ...     ...  ...   \n",
       "9995       9996    15606229   Obijiaku          771          0       1   39   \n",
       "9996       9997    15569892  Johnstone          516          0       1   35   \n",
       "9997       9998    15584532        Liu          709          0       0   36   \n",
       "9998       9999    15682355  Sabbatini          772          1       1   42   \n",
       "9999      10000    15628319     Walker          792          0       0   28   \n",
       "\n",
       "      Tenure   Balance  NumOfProducts  HasCrCard  IsActiveMember  \\\n",
       "0          2  0.000000              1          1               1   \n",
       "1          1  0.334031              1          0               1   \n",
       "2          8  0.636357              3          1               0   \n",
       "3          1  0.000000              2          0               0   \n",
       "4          2  0.500246              1          1               1   \n",
       "...      ...       ...            ...        ...             ...   \n",
       "9995       5  0.000000              2          1               0   \n",
       "9996      10  0.228657              1          1               1   \n",
       "9997       7  0.000000              1          0               1   \n",
       "9998       3  0.299226              2          1               0   \n",
       "9999       4  0.518708              1          1               0   \n",
       "\n",
       "      EstimatedSalary  Exited  \n",
       "0            0.506735       1  \n",
       "1            0.562709       0  \n",
       "2            0.569654       1  \n",
       "3            0.469120       0  \n",
       "4            0.395400       0  \n",
       "...               ...     ...  \n",
       "9995         0.481341       0  \n",
       "9996         0.508490       0  \n",
       "9997         0.210390       1  \n",
       "9998         0.464429       1  \n",
       "9999         0.190914       0  \n",
       "\n",
       "[10000 rows x 14 columns]"
      ]
     },
     "execution_count": 17,
     "metadata": {},
     "output_type": "execute_result"
    }
   ],
   "source": [
    "bank_data"
   ]
  },
  {
   "cell_type": "markdown",
   "id": "6a7a76bf",
   "metadata": {
    "id": "6a7a76bf",
    "papermill": {
     "duration": 0.009669,
     "end_time": "2022-10-13T07:48:21.039241",
     "exception": false,
     "start_time": "2022-10-13T07:48:21.029572",
     "status": "completed"
    },
    "tags": []
   },
   "source": [
    "## Data Visualisation"
   ]
  },
  {
   "cell_type": "code",
   "execution_count": null,
   "id": "21826f11",
   "metadata": {
    "colab": {
     "base_uri": "https://localhost:8080/",
     "height": 1000
    },
    "execution": {
     "iopub.execute_input": "2022-10-13T07:48:21.061702Z",
     "iopub.status.busy": "2022-10-13T07:48:21.061270Z",
     "iopub.status.idle": "2022-10-13T07:49:02.033816Z",
     "shell.execute_reply": "2022-10-13T07:49:02.032770Z"
    },
    "id": "21826f11",
    "outputId": "3163189d-47e0-4440-8500-7062f0fd7bf1",
    "papermill": {
     "duration": 41.061384,
     "end_time": "2022-10-13T07:49:02.110907",
     "exception": false,
     "start_time": "2022-10-13T07:48:21.049523",
     "status": "completed"
    },
    "tags": []
   },
   "outputs": [],
   "source": [
    "sns.pairplot(data=bank_data)"
   ]
  },
  {
   "cell_type": "code",
   "execution_count": null,
   "id": "00c08ff8",
   "metadata": {
    "colab": {
     "base_uri": "https://localhost:8080/",
     "height": 358
    },
    "execution": {
     "iopub.execute_input": "2022-10-13T07:49:02.192784Z",
     "iopub.status.busy": "2022-10-13T07:49:02.191865Z",
     "iopub.status.idle": "2022-10-13T07:49:02.641376Z",
     "shell.execute_reply": "2022-10-13T07:49:02.640005Z"
    },
    "id": "00c08ff8",
    "outputId": "903e2bb3-3243-482b-d913-cc8701f5253b",
    "papermill": {
     "duration": 0.494679,
     "end_time": "2022-10-13T07:49:02.645045",
     "exception": false,
     "start_time": "2022-10-13T07:49:02.150366",
     "status": "completed"
    },
    "tags": []
   },
   "outputs": [],
   "source": [
    "sns.heatmap(data=bank_data.corr())"
   ]
  },
  {
   "cell_type": "markdown",
   "id": "aea113e1",
   "metadata": {
    "id": "aea113e1",
    "papermill": {
     "duration": 0.038923,
     "end_time": "2022-10-13T07:49:02.722486",
     "exception": false,
     "start_time": "2022-10-13T07:49:02.683563",
     "status": "completed"
    },
    "tags": []
   },
   "source": [
    "## Model Selection"
   ]
  },
  {
   "cell_type": "code",
   "execution_count": null,
   "id": "0afbdcfa",
   "metadata": {
    "execution": {
     "iopub.execute_input": "2022-10-13T07:49:02.802718Z",
     "iopub.status.busy": "2022-10-13T07:49:02.801893Z",
     "iopub.status.idle": "2022-10-13T07:49:02.808682Z",
     "shell.execute_reply": "2022-10-13T07:49:02.807731Z"
    },
    "id": "0afbdcfa",
    "papermill": {
     "duration": 0.049912,
     "end_time": "2022-10-13T07:49:02.811067",
     "exception": false,
     "start_time": "2022-10-13T07:49:02.761155",
     "status": "completed"
    },
    "tags": []
   },
   "outputs": [],
   "source": [
    "bank_data = bank_data.drop(['CustomerId', 'RowNumber','Surname'],axis=1)"
   ]
  },
  {
   "cell_type": "code",
   "execution_count": null,
   "id": "63ac3421",
   "metadata": {
    "colab": {
     "base_uri": "https://localhost:8080/",
     "height": 206
    },
    "execution": {
     "iopub.execute_input": "2022-10-13T07:49:02.892156Z",
     "iopub.status.busy": "2022-10-13T07:49:02.891097Z",
     "iopub.status.idle": "2022-10-13T07:49:02.907856Z",
     "shell.execute_reply": "2022-10-13T07:49:02.906851Z"
    },
    "id": "63ac3421",
    "outputId": "ed305878-9833-43e4-c888-2412b463a6bd",
    "papermill": {
     "duration": 0.061209,
     "end_time": "2022-10-13T07:49:02.910558",
     "exception": false,
     "start_time": "2022-10-13T07:49:02.849349",
     "status": "completed"
    },
    "tags": []
   },
   "outputs": [],
   "source": [
    "bank_data.head()"
   ]
  },
  {
   "cell_type": "code",
   "execution_count": null,
   "id": "fecbadc4",
   "metadata": {
    "execution": {
     "iopub.execute_input": "2022-10-13T07:49:02.991433Z",
     "iopub.status.busy": "2022-10-13T07:49:02.990804Z",
     "iopub.status.idle": "2022-10-13T07:49:02.996546Z",
     "shell.execute_reply": "2022-10-13T07:49:02.995466Z"
    },
    "id": "fecbadc4",
    "papermill": {
     "duration": 0.049405,
     "end_time": "2022-10-13T07:49:02.999114",
     "exception": false,
     "start_time": "2022-10-13T07:49:02.949709",
     "status": "completed"
    },
    "tags": []
   },
   "outputs": [],
   "source": [
    "x = bank_data.drop(['Exited'],axis=1)"
   ]
  },
  {
   "cell_type": "code",
   "execution_count": null,
   "id": "EGCV7emOzYer",
   "metadata": {
    "colab": {
     "base_uri": "https://localhost:8080/",
     "height": 424
    },
    "id": "EGCV7emOzYer",
    "outputId": "d57cc476-c98f-45d4-d655-7d5f40b2670e"
   },
   "outputs": [],
   "source": [
    "x"
   ]
  },
  {
   "cell_type": "code",
   "execution_count": null,
   "id": "45d662aa",
   "metadata": {
    "execution": {
     "iopub.execute_input": "2022-10-13T07:49:03.079680Z",
     "iopub.status.busy": "2022-10-13T07:49:03.078846Z",
     "iopub.status.idle": "2022-10-13T07:49:03.084306Z",
     "shell.execute_reply": "2022-10-13T07:49:03.083369Z"
    },
    "id": "45d662aa",
    "papermill": {
     "duration": 0.048768,
     "end_time": "2022-10-13T07:49:03.086755",
     "exception": false,
     "start_time": "2022-10-13T07:49:03.037987",
     "status": "completed"
    },
    "tags": []
   },
   "outputs": [],
   "source": [
    "y = bank_data['Exited']"
   ]
  },
  {
   "cell_type": "code",
   "execution_count": null,
   "id": "y08r_-gnyXyU",
   "metadata": {
    "colab": {
     "base_uri": "https://localhost:8080/"
    },
    "id": "y08r_-gnyXyU",
    "outputId": "527c8e59-e759-475c-f96e-5f50e64739ca"
   },
   "outputs": [],
   "source": [
    "y"
   ]
  },
  {
   "cell_type": "markdown",
   "id": "c5f4b0b0",
   "metadata": {
    "id": "c5f4b0b0",
    "papermill": {
     "duration": 0.038242,
     "end_time": "2022-10-13T07:49:03.163473",
     "exception": false,
     "start_time": "2022-10-13T07:49:03.125231",
     "status": "completed"
    },
    "tags": []
   },
   "source": [
    "## Split Train and Test"
   ]
  },
  {
   "cell_type": "code",
   "execution_count": null,
   "id": "87a6e31c",
   "metadata": {
    "execution": {
     "iopub.execute_input": "2022-10-13T07:49:03.242615Z",
     "iopub.status.busy": "2022-10-13T07:49:03.241797Z",
     "iopub.status.idle": "2022-10-13T07:49:03.250067Z",
     "shell.execute_reply": "2022-10-13T07:49:03.249182Z"
    },
    "id": "87a6e31c",
    "papermill": {
     "duration": 0.050763,
     "end_time": "2022-10-13T07:49:03.252579",
     "exception": false,
     "start_time": "2022-10-13T07:49:03.201816",
     "status": "completed"
    },
    "tags": []
   },
   "outputs": [],
   "source": [
    "x_train,x_test,y_train,y_test = train_test_split(x,y,test_size=0.2,random_state=0)"
   ]
  },
  {
   "cell_type": "code",
   "execution_count": null,
   "id": "d72bf9c6",
   "metadata": {
    "colab": {
     "base_uri": "https://localhost:8080/"
    },
    "execution": {
     "iopub.execute_input": "2022-10-13T07:49:03.332643Z",
     "iopub.status.busy": "2022-10-13T07:49:03.331334Z",
     "iopub.status.idle": "2022-10-13T07:49:03.339209Z",
     "shell.execute_reply": "2022-10-13T07:49:03.338116Z"
    },
    "id": "d72bf9c6",
    "outputId": "18519011-3617-4c12-a9db-81fb3d50f910",
    "papermill": {
     "duration": 0.050289,
     "end_time": "2022-10-13T07:49:03.341302",
     "exception": false,
     "start_time": "2022-10-13T07:49:03.291013",
     "status": "completed"
    },
    "tags": []
   },
   "outputs": [],
   "source": [
    "print(len(x_train), len(y_train))"
   ]
  },
  {
   "cell_type": "code",
   "execution_count": null,
   "id": "0c37dfb7",
   "metadata": {
    "colab": {
     "base_uri": "https://localhost:8080/"
    },
    "execution": {
     "iopub.execute_input": "2022-10-13T07:49:03.423553Z",
     "iopub.status.busy": "2022-10-13T07:49:03.422689Z",
     "iopub.status.idle": "2022-10-13T07:49:03.428957Z",
     "shell.execute_reply": "2022-10-13T07:49:03.428087Z"
    },
    "id": "0c37dfb7",
    "outputId": "5ee9afe6-bf14-4af0-a8c0-7ace830fa9dd",
    "papermill": {
     "duration": 0.049357,
     "end_time": "2022-10-13T07:49:03.430872",
     "exception": false,
     "start_time": "2022-10-13T07:49:03.381515",
     "status": "completed"
    },
    "tags": []
   },
   "outputs": [],
   "source": [
    "print(len(x_test), len(y_test))"
   ]
  },
  {
   "cell_type": "markdown",
   "id": "865c01ef",
   "metadata": {
    "id": "865c01ef",
    "papermill": {
     "duration": 0.038663,
     "end_time": "2022-10-13T07:49:03.508454",
     "exception": false,
     "start_time": "2022-10-13T07:49:03.469791",
     "status": "completed"
    },
    "tags": []
   },
   "source": [
    "## Build a Model ANN"
   ]
  },
  {
   "cell_type": "code",
   "execution_count": null,
   "id": "834d1686",
   "metadata": {
    "execution": {
     "iopub.execute_input": "2022-10-13T07:49:03.588682Z",
     "iopub.status.busy": "2022-10-13T07:49:03.587844Z",
     "iopub.status.idle": "2022-10-13T07:49:04.787672Z",
     "shell.execute_reply": "2022-10-13T07:49:04.786074Z"
    },
    "id": "834d1686",
    "papermill": {
     "duration": 1.242622,
     "end_time": "2022-10-13T07:49:04.789963",
     "exception": false,
     "start_time": "2022-10-13T07:49:03.547341",
     "status": "completed"
    },
    "tags": []
   },
   "outputs": [],
   "source": [
    "model = keras.Sequential([\n",
    "    keras.layers.Dense(units=25,activation='relu'),\n",
    "    keras.layers.Dense(units=20,activation='relu'),\n",
    "    keras.layers.Dense(units=1,activation='sigmoid')\n",
    "])"
   ]
  },
  {
   "cell_type": "code",
   "execution_count": null,
   "id": "68f981d6",
   "metadata": {
    "execution": {
     "iopub.execute_input": "2022-10-13T07:49:04.872864Z",
     "iopub.status.busy": "2022-10-13T07:49:04.871367Z",
     "iopub.status.idle": "2022-10-13T07:49:04.895337Z",
     "shell.execute_reply": "2022-10-13T07:49:04.893568Z"
    },
    "id": "68f981d6",
    "papermill": {
     "duration": 0.068989,
     "end_time": "2022-10-13T07:49:04.898116",
     "exception": false,
     "start_time": "2022-10-13T07:49:04.829127",
     "status": "completed"
    },
    "tags": []
   },
   "outputs": [],
   "source": [
    "model.compile(optimizer='adam',loss='binary_crossentropy',metrics='accuracy')"
   ]
  },
  {
   "cell_type": "code",
   "execution_count": null,
   "id": "b490e9a0",
   "metadata": {
    "colab": {
     "base_uri": "https://localhost:8080/"
    },
    "execution": {
     "iopub.execute_input": "2022-10-13T07:49:04.980504Z",
     "iopub.status.busy": "2022-10-13T07:49:04.979746Z",
     "iopub.status.idle": "2022-10-13T07:49:26.645232Z",
     "shell.execute_reply": "2022-10-13T07:49:26.644368Z"
    },
    "id": "b490e9a0",
    "outputId": "dcab6460-45b3-4db2-bd68-d3007d4841af",
    "papermill": {
     "duration": 21.710287,
     "end_time": "2022-10-13T07:49:26.647614",
     "exception": false,
     "start_time": "2022-10-13T07:49:04.937327",
     "status": "completed"
    },
    "tags": []
   },
   "outputs": [],
   "source": [
    "model.fit(x_train,y_train,epochs=100)"
   ]
  },
  {
   "cell_type": "code",
   "execution_count": null,
   "id": "8491ef3e",
   "metadata": {
    "colab": {
     "base_uri": "https://localhost:8080/"
    },
    "execution": {
     "iopub.execute_input": "2022-10-13T07:49:26.782751Z",
     "iopub.status.busy": "2022-10-13T07:49:26.781736Z",
     "iopub.status.idle": "2022-10-13T07:49:27.350342Z",
     "shell.execute_reply": "2022-10-13T07:49:27.348930Z"
    },
    "id": "8491ef3e",
    "outputId": "be0dd258-a35d-4aa5-8515-8855042d4747",
    "papermill": {
     "duration": 0.637055,
     "end_time": "2022-10-13T07:49:27.353101",
     "exception": false,
     "start_time": "2022-10-13T07:49:26.716046",
     "status": "completed"
    },
    "tags": []
   },
   "outputs": [],
   "source": [
    "model.evaluate(x_test,y_test)"
   ]
  },
  {
   "cell_type": "markdown",
   "id": "9364583c",
   "metadata": {
    "id": "9364583c",
    "papermill": {
     "duration": 0.063481,
     "end_time": "2022-10-13T07:49:27.481423",
     "exception": false,
     "start_time": "2022-10-13T07:49:27.417942",
     "status": "completed"
    },
    "tags": []
   },
   "source": [
    "## Prediction and Classification Report"
   ]
  },
  {
   "cell_type": "code",
   "execution_count": null,
   "id": "ed11e376",
   "metadata": {
    "colab": {
     "base_uri": "https://localhost:8080/"
    },
    "execution": {
     "iopub.execute_input": "2022-10-13T07:49:27.611494Z",
     "iopub.status.busy": "2022-10-13T07:49:27.611050Z",
     "iopub.status.idle": "2022-10-13T07:49:27.950278Z",
     "shell.execute_reply": "2022-10-13T07:49:27.949063Z"
    },
    "id": "ed11e376",
    "outputId": "74b7a15f-de09-47a8-ccc8-c6c556833afc",
    "papermill": {
     "duration": 0.407627,
     "end_time": "2022-10-13T07:49:27.952873",
     "exception": false,
     "start_time": "2022-10-13T07:49:27.545246",
     "status": "completed"
    },
    "tags": []
   },
   "outputs": [],
   "source": [
    "y_preds = model.predict(x_test)\n",
    "y_preds"
   ]
  },
  {
   "cell_type": "code",
   "execution_count": null,
   "id": "a75c999a",
   "metadata": {
    "execution": {
     "iopub.execute_input": "2022-10-13T07:49:28.083775Z",
     "iopub.status.busy": "2022-10-13T07:49:28.082448Z",
     "iopub.status.idle": "2022-10-13T07:49:28.102257Z",
     "shell.execute_reply": "2022-10-13T07:49:28.100820Z"
    },
    "id": "a75c999a",
    "papermill": {
     "duration": 0.0888,
     "end_time": "2022-10-13T07:49:28.105314",
     "exception": false,
     "start_time": "2022-10-13T07:49:28.016514",
     "status": "completed"
    },
    "tags": []
   },
   "outputs": [],
   "source": [
    "y_pred = []\n",
    "for element in y_preds:\n",
    "    if element > 0.5:\n",
    "        y_pred.append(1)\n",
    "    else:\n",
    "        y_pred.append(0)\n",
    "    "
   ]
  },
  {
   "cell_type": "code",
   "execution_count": null,
   "id": "764853d5",
   "metadata": {
    "colab": {
     "base_uri": "https://localhost:8080/"
    },
    "execution": {
     "iopub.execute_input": "2022-10-13T07:49:28.238336Z",
     "iopub.status.busy": "2022-10-13T07:49:28.237888Z",
     "iopub.status.idle": "2022-10-13T07:49:28.244932Z",
     "shell.execute_reply": "2022-10-13T07:49:28.244012Z"
    },
    "id": "764853d5",
    "outputId": "f30f1d3f-87c9-4034-c1d2-3be6be661926",
    "papermill": {
     "duration": 0.076957,
     "end_time": "2022-10-13T07:49:28.247055",
     "exception": false,
     "start_time": "2022-10-13T07:49:28.170098",
     "status": "completed"
    },
    "tags": []
   },
   "outputs": [],
   "source": [
    "y_pred[:15]"
   ]
  },
  {
   "cell_type": "code",
   "execution_count": null,
   "id": "74e6f2c9",
   "metadata": {
    "colab": {
     "base_uri": "https://localhost:8080/"
    },
    "execution": {
     "iopub.execute_input": "2022-10-13T07:49:28.379592Z",
     "iopub.status.busy": "2022-10-13T07:49:28.379133Z",
     "iopub.status.idle": "2022-10-13T07:49:28.404000Z",
     "shell.execute_reply": "2022-10-13T07:49:28.402075Z"
    },
    "id": "74e6f2c9",
    "outputId": "ccea3532-bc61-42f4-c863-ca5ff0549f24",
    "papermill": {
     "duration": 0.093752,
     "end_time": "2022-10-13T07:49:28.406625",
     "exception": false,
     "start_time": "2022-10-13T07:49:28.312873",
     "status": "completed"
    },
    "tags": []
   },
   "outputs": [],
   "source": [
    "print(classification_report(y_test,y_pred))"
   ]
  },
  {
   "cell_type": "code",
   "execution_count": null,
   "id": "78cf3545",
   "metadata": {
    "colab": {
     "base_uri": "https://localhost:8080/"
    },
    "execution": {
     "iopub.execute_input": "2022-10-13T07:49:28.541558Z",
     "iopub.status.busy": "2022-10-13T07:49:28.540809Z",
     "iopub.status.idle": "2022-10-13T07:49:28.550903Z",
     "shell.execute_reply": "2022-10-13T07:49:28.549853Z"
    },
    "id": "78cf3545",
    "outputId": "09e7cb32-2c99-4909-9dda-c909a646e6af",
    "papermill": {
     "duration": 0.081385,
     "end_time": "2022-10-13T07:49:28.553206",
     "exception": false,
     "start_time": "2022-10-13T07:49:28.471821",
     "status": "completed"
    },
    "tags": []
   },
   "outputs": [],
   "source": [
    "acc_score = accuracy_score(y_test,y_pred) * 100\n",
    "acc_score"
   ]
  },
  {
   "cell_type": "code",
   "execution_count": null,
   "id": "0R7JhsJetaHX",
   "metadata": {
    "colab": {
     "base_uri": "https://localhost:8080/"
    },
    "id": "0R7JhsJetaHX",
    "outputId": "e5302091-4feb-44bc-983e-bec744336c9c"
   },
   "outputs": [],
   "source": [
    "from sklearn.metrics import confusion_matrix\n",
    "cm = confusion_matrix(y_test, y_pred)\n",
    "print(cm)"
   ]
  },
  {
   "cell_type": "code",
   "execution_count": null,
   "id": "uz7Mnri6w-bS",
   "metadata": {
    "id": "uz7Mnri6w-bS"
   },
   "outputs": [],
   "source": []
  }
 ],
 "metadata": {
  "colab": {
   "provenance": []
  },
  "kernelspec": {
   "display_name": "Python 3 (ipykernel)",
   "language": "python",
   "name": "python3"
  },
  "language_info": {
   "codemirror_mode": {
    "name": "ipython",
    "version": 3
   },
   "file_extension": ".py",
   "mimetype": "text/x-python",
   "name": "python",
   "nbconvert_exporter": "python",
   "pygments_lexer": "ipython3",
   "version": "3.9.1"
  },
  "papermill": {
   "default_parameters": {},
   "duration": 87.247096,
   "end_time": "2022-10-13T07:49:31.427704",
   "environment_variables": {},
   "exception": null,
   "input_path": "__notebook__.ipynb",
   "output_path": "__notebook__.ipynb",
   "parameters": {},
   "start_time": "2022-10-13T07:48:04.180608",
   "version": "2.3.4"
  }
 },
 "nbformat": 4,
 "nbformat_minor": 5
}
